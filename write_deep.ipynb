{
  "nbformat": 4,
  "nbformat_minor": 0,
  "metadata": {
    "colab": {
      "name": "write_deep.ipynb",
      "provenance": [],
      "collapsed_sections": [],
      "mount_file_id": "19U0MjtDCO-WP07NY-QdxFwlUarNAuA7M",
      "authorship_tag": "ABX9TyPDe2n9onjpnDkM8ZS9BjoU",
      "include_colab_link": true
    },
    "kernelspec": {
      "name": "python3",
      "display_name": "Python 3"
    },
    "accelerator": "GPU"
  },
  "cells": [
    {
      "cell_type": "markdown",
      "metadata": {
        "id": "view-in-github",
        "colab_type": "text"
      },
      "source": [
        "<a href=\"https://colab.research.google.com/github/saleh1312/DeepFake/blob/main/write_deep.ipynb\" target=\"_parent\"><img src=\"https://colab.research.google.com/assets/colab-badge.svg\" alt=\"Open In Colab\"/></a>"
      ]
    },
    {
      "cell_type": "code",
      "metadata": {
        "id": "k7mdjj6sEHR3"
      },
      "source": [
        "import cv2\r\n",
        "import os \r\n",
        "import dlib\r\n",
        "import matplotlib.pyplot as plt\r\n",
        "import numpy as np\r\n",
        "import tensorflow as tf\r\n",
        "import tensorflow.keras as keras\r\n",
        "from tensorflow.keras.layers import LeakyReLU\r\n",
        "from skimage.transform import resize"
      ],
      "execution_count": null,
      "outputs": []
    },
    {
      "cell_type": "code",
      "metadata": {
        "id": "ggL5y-LOFTF7"
      },
      "source": [
        "# Load the detector\r\n",
        "detector = dlib.get_frontal_face_detector()\r\n",
        "\r\n",
        "# Load the predictor\r\n",
        "predictor = dlib.shape_predictor(\"/content/drive/MyDrive/shape_predictor_68_face_landmarks.dat\")"
      ],
      "execution_count": null,
      "outputs": []
    },
    {
      "cell_type": "code",
      "metadata": {
        "id": "8GNsYuMiGChB"
      },
      "source": [
        "d_s=tf.keras.models.load_model('/content/drive/MyDrive/encoder-da7ee7.h5', custom_objects={'LeakyReLU': tf.keras.layers.LeakyReLU(0.2)})"
      ],
      "execution_count": null,
      "outputs": []
    },
    {
      "cell_type": "code",
      "metadata": {
        "id": "_I0VNdRxJ8xh"
      },
      "source": [
        "def mask_p(img,mask):\r\n",
        "  img= img.astype(np.float32)\r\n",
        "  final = cv2.bitwise_and(img,img,mask=mask)\r\n",
        "  final = cv2.resize(final,(128,128))\r\n",
        "  mask = cv2.resize(mask,(128,128))\r\n",
        "  final=(final.astype(np.float32))\r\n",
        "\r\n",
        "  for x in range(mask.shape[1]):\r\n",
        "    for y in range(mask.shape[0]):\r\n",
        "      if mask[y,x] != 255:\r\n",
        "        final[y,x]=(-1,-1,-1)\r\n",
        "\r\n",
        "  return final\r\n"
      ],
      "execution_count": null,
      "outputs": []
    },
    {
      "cell_type": "code",
      "metadata": {
        "id": "M4cWkk6TFU5U"
      },
      "source": [
        "def scar_to_da7(img):\r\n",
        "  gray = cv2.cvtColor(src=img, code=cv2.COLOR_BGR2GRAY)\r\n",
        "  faces = detector(gray)\r\n",
        "  if len(faces) ==0:\r\n",
        "    return faces\r\n",
        "  p=None\r\n",
        "  for face in faces:\r\n",
        "    x1 = face.left() # left point\r\n",
        "    y1 = face.top() # top point\r\n",
        "    x2 = face.right() # right point\r\n",
        "    y2 = face.bottom() # bottom point\r\n",
        "\r\n",
        "    # Create landmark object\r\n",
        "    landmarks = predictor(image=gray, box=face)\r\n",
        "\r\n",
        "    # Loop through all the points\r\n",
        "    points=[]\r\n",
        "    for n in range(0, 68):\r\n",
        "        x = landmarks.part(n).x\r\n",
        "        y = landmarks.part(n).y\r\n",
        "        points.append((x,y))\r\n",
        "\r\n",
        "    p=np.float32(points)\r\n",
        "    break\r\n",
        "\r\n",
        "  hull=cv2.convexHull(p,False)\r\n",
        "\r\n",
        "  hullee=np.reshape(hull,(hull.shape[1],hull.shape[0],hull.shape[2]))\r\n",
        "\r\n",
        "  mask=np.zeros((img.shape[0],img.shape[1]),np.uint8)\r\n",
        "  cv2.fillPoly(mask,hullee.astype(np.int32),255)\r\n",
        "  cnt, hierarchy = cv2.findContours(mask, cv2.RETR_LIST, cv2.CHAIN_APPROX_SIMPLE)\r\n",
        "  x,y,w,h = cv2.boundingRect(cnt[0])\r\n",
        "  facee=img[y:y+h,x:x+w]\r\n",
        "  maskee=mask[y:y+h,x:x+w]\r\n",
        "\r\n",
        "  n=mask_p(facee,maskee)\r\n",
        "\r\n",
        "  n=n/255.0\r\n",
        "  \r\n",
        "  for x1 in range(n.shape[1]):\r\n",
        "    for y1 in range(n.shape[0]):\r\n",
        "      if n[y1,x1][0] < 0 and n[y1,x1][1] < 0 and n[y1,x1][2] < 0:\r\n",
        "        n[y1,x1]=(-1,-1,-1)\r\n",
        "\r\n",
        "  t=np.reshape(n,(1,128,128,3)).astype(np.float32)\r\n",
        "  o=d_s.predict(t)\r\n",
        "  o=((((np.reshape(o,(128,128,3)).astype(np.float32)))))\r\n",
        "\r\n",
        "  mask2=np.zeros((o.shape[0],o.shape[1],1),np.float32)\r\n",
        "\r\n",
        "  o=o*255.0\r\n",
        "  for x1 in range(o.shape[1]):\r\n",
        "    for y1 in range(o.shape[0]):\r\n",
        "      if o[y1,x1][0] > 0 and o[y1,x1][1] > 0 and o[y1,x1][2] > 0:\r\n",
        "        mask2[y1,x1]=255.0\r\n",
        "\r\n",
        "\r\n",
        "  mask_1=np.zeros((img.shape[0],img.shape[1],1),np.float32)\r\n",
        "  mask_2=np.zeros((img.shape[0],img.shape[1],3),np.float32)\r\n",
        "\r\n",
        "  o=resize(o,(h,w))\r\n",
        "  mask2=resize(mask2,(h,w))\r\n",
        "\r\n",
        "\r\n",
        "  mask_1[y:y+h,x:x+w]=mask2\r\n",
        "  mask_2[y:y+h,x:x+w]=o\r\n",
        "\r\n",
        "\r\n",
        "  for x1 in range(mask_1.shape[1]):\r\n",
        "    for y1 in range(mask_1.shape[0]):\r\n",
        "      if mask_1[y1,x1][0] == 255.0:\r\n",
        "        img[y1,x1]=(mask_2[y1,x1]).astype(np.uint8)\r\n",
        "\r\n",
        "  return img\r\n",
        "\r\n",
        "    \r\n",
        "\r\n",
        "\r\n"
      ],
      "execution_count": null,
      "outputs": []
    },
    {
      "cell_type": "code",
      "metadata": {
        "id": "sY4yYp0iYwJU"
      },
      "source": [
        "cap = cv2.VideoCapture('/content/drive/MyDrive/deepfake project/videos/1.mp4')\r\n",
        "frame_width = int(cap.get(3))\r\n",
        "frame_height = int(cap.get(4))\r\n",
        "out = cv2.VideoWriter('outpy.avi',cv2.VideoWriter_fourcc('M','J','P','G'), 30, (frame_width,frame_height))\r\n",
        "\r\n",
        "p=0\r\n",
        "while True:\r\n",
        "  if p==100:\r\n",
        "    break\r\n",
        "  ret,frame= cap.read()\r\n",
        "  \r\n",
        "  if ret:\r\n",
        "    masks=scar_to_da7(frame) \r\n",
        "    \r\n",
        "    if len(masks)==0:\r\n",
        "      out.write(frame)\r\n",
        "    else:\r\n",
        "      out.write(masks)\r\n",
        "\r\n",
        "  else:\r\n",
        "    break\r\n",
        "  p=p+1\r\n",
        "\r\n",
        "cap.release()\r\n",
        "out.release()"
      ],
      "execution_count": null,
      "outputs": []
    },
    {
      "cell_type": "code",
      "metadata": {
        "id": "w2oK2NSnbKIm"
      },
      "source": [
        "cap.release()\r\n",
        "out.release()"
      ],
      "execution_count": null,
      "outputs": []
    }
  ]
}